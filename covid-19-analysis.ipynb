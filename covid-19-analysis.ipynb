# COVID-19_Analysis.ipynb
# Author: Raphael Msomea
# Date: 2025-09-18
# Purpose: Data exploration, cleaning, and visualization of CORD-19 metadata

# -----------------------
# Part 1: Load & Explore
# -----------------------
import pandas as pd
import matplotlib.pyplot as plt
import seaborn as sns
from wordcloud import WordCloud

# Load dataset
df = pd.read_csv("metadata.csv")

# Inspect dataset
print(df.head())
print(df.shape)
print(df.info())
print(df.isnull().sum())

# -----------------------
# Part 2: Data Cleaning
# -----------------------
# Convert publication date to datetime
df['publish_time'] = pd.to_datetime(df['publish_time'], errors='coerce')
df['year'] = df['publish_time'].dt.year

# Handle missing abstracts
df['abstract'] = df['abstract'].fillna("No abstract available")

# Optional: create abstract word count column
df['abstract_word_count'] = df['abstract'].apply(lambda x: len(str(x).split()))

# Drop duplicates
df.drop_duplicates(subset=['sha'], inplace=True)

# -----------------------
# Part 3: Analysis & Visualization
# -----------------------
# Papers per year
year_counts = df['year'].value_counts().sort_index()
plt.figure(figsize=(10,5))
sns.barplot(x=year_counts.index, y=year_counts.values, palette="viridis")
plt.title("Publications by Year")
plt.xlabel("Year")
plt.ylabel("Number of Papers")
plt.show()

# Top 10 journals
top_journals = df['journal'].value_counts().head(10)
plt.figure(figsize=(10,5))
sns.barplot(x=top_journals.values, y=top_journals.index, palette="magma")
plt.title("Top 10 Journals")
plt.show()

# Word cloud of titles
all_titles = ' '.join(df['title'].dropna().astype(str))
wordcloud = WordCloud(width=800, height=400, background_color='white').generate(all_titles)
plt.figure(figsize=(15,7))
plt.imshow(wordcloud, interpolation='bilinear')
plt.axis('off')
plt.title("Word Cloud of Paper Titles")
plt.show()

# Distribution by source
source_counts = df['source_x'].value_counts()
plt.figure(figsize=(8,5))
sns.barplot(x=source_counts.values, y=source_counts.index, palette="coolwarm")
plt.title("Paper Counts by Source")
plt.show()
